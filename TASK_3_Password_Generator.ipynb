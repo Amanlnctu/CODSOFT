{
  "nbformat": 4,
  "nbformat_minor": 0,
  "metadata": {
    "colab": {
      "provenance": [],
      "authorship_tag": "ABX9TyMSttOQGq/CLE5dX8d8PEjG",
      "include_colab_link": true
    },
    "kernelspec": {
      "name": "python3",
      "display_name": "Python 3"
    },
    "language_info": {
      "name": "python"
    }
  },
  "cells": [
    {
      "cell_type": "markdown",
      "metadata": {
        "id": "view-in-github",
        "colab_type": "text"
      },
      "source": [
        "<a href=\"https://colab.research.google.com/github/Amanlnctu/CODSOFT/blob/main/Password_Generator.ipynb\" target=\"_parent\"><img src=\"https://colab.research.google.com/assets/colab-badge.svg\" alt=\"Open In Colab\"/></a>"
      ]
    },
    {
      "cell_type": "markdown",
      "source": [
        "# ***Password_Generator***"
      ],
      "metadata": {
        "id": "ZLynkqJDiBoq"
      }
    },
    {
      "cell_type": "markdown",
      "source": [
        "IMPORT THE LIBRARIES"
      ],
      "metadata": {
        "id": "eUYgYeWjiUlq"
      }
    },
    {
      "cell_type": "code",
      "source": [
        "import random\n",
        "import string\n"
      ],
      "metadata": {
        "id": "jI0bEkzbkBMT"
      },
      "execution_count": 2,
      "outputs": []
    },
    {
      "cell_type": "markdown",
      "source": [
        "GENERATE PASSWORD FUNCTION"
      ],
      "metadata": {
        "id": "QHAIVFfLkFGs"
      }
    },
    {
      "cell_type": "code",
      "source": [
        "def generate_password(length, use_letters, use_numbers, use_symbols):\n",
        "    characters = \"\"\n",
        "    if use_letters:\n",
        "        characters += string.ascii_letters\n",
        "    if use_numbers:\n",
        "        characters += string.digits\n",
        "    if use_symbols:\n",
        "        characters += string.punctuation\n",
        "\n",
        "    if not characters:\n",
        "        print(\"Dude, select at least one character type 😅\")  # select one character type.\n",
        "        return None\n",
        "\n",
        "    password = \"\".join(random.choice(characters) for _ in range(length))\n",
        "    return password"
      ],
      "metadata": {
        "id": "McO-3ZN1kMEU"
      },
      "execution_count": 3,
      "outputs": []
    },
    {
      "cell_type": "markdown",
      "source": [
        "### ***MAIN BODY OF THE CODE***"
      ],
      "metadata": {
        "id": "OJ5e-mxvkf4d"
      }
    },
    {
      "cell_type": "code",
      "source": [
        "def main():\n",
        "    while True:\n",
        "        print(\"\\nPassword Generator\")\n",
        "        print(\"1. Generate Password\")\n",
        "        print(\"2. Exit\")\n",
        "        choice = input(\"Enter your choice: \")\n",
        "\n",
        "        if choice == \"1\":\n",
        "            try:\n",
        "                length = int(input(\"Enter the password length: \"))\n",
        "                use_letters = input(\"Include letters? (yes/no): \").lower() == \"yes\"\n",
        "                use_numbers = input(\"Include numbers? (yes/no): \").lower() == \"yes\"\n",
        "                use_symbols = input(\"Include symbols? (yes/no): \").lower() == \"yes\"\n",
        "\n",
        "                password = generate_password(length, use_letters, use_numbers, use_symbols)\n",
        "                if password:\n",
        "                    print(f\"Generated password: {password}\")\n",
        "            except ValueError:\n",
        "                print(\"Invalid input. Please enter a valid number for password length.\")\n",
        "        elif choice == \"2\":\n",
        "            print(\"Chalo, phir kab milte hain! 😊\")  # Alright, see you next time! 😊\n",
        "            break\n",
        "        else:\n",
        "            print(\"Invalid choice. Please enter 1 or 2.\")  # Invalid choice. Please enter 1 or 2.\n",
        "\n",
        "if __name__ == \"__main__\":\n",
        "    main()"
      ],
      "metadata": {
        "colab": {
          "base_uri": "https://localhost:8080/"
        },
        "id": "_3JR005Zkm9H",
        "outputId": "dc25e3d0-1432-452d-f91f-fbec05ca6187"
      },
      "execution_count": 4,
      "outputs": [
        {
          "output_type": "stream",
          "name": "stdout",
          "text": [
            "\n",
            "Password Generator\n",
            "1. Generate Password\n",
            "2. Exit\n",
            "Enter your choice: 1\n",
            "Enter the password length: 8\n",
            "Include letters? (yes/no): YES\n",
            "Include numbers? (yes/no): yes\n",
            "Include symbols? (yes/no): no\n",
            "Generated password: IZTl6X7O\n",
            "\n",
            "Password Generator\n",
            "1. Generate Password\n",
            "2. Exit\n",
            "Enter your choice: 2\n",
            "Chalo, phir kab milte hain! 😊\n"
          ]
        }
      ]
    },
    {
      "cell_type": "code",
      "source": [],
      "metadata": {
        "id": "MyuxfjZ3lcbp"
      },
      "execution_count": 4,
      "outputs": []
    }
  ]
}
