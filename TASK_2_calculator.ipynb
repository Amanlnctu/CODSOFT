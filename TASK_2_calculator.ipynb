{
  "nbformat": 4,
  "nbformat_minor": 0,
  "metadata": {
    "colab": {
      "provenance": [],
      "authorship_tag": "ABX9TyPhfNWg8TLzHSqfHuOJJHEB",
      "include_colab_link": true
    },
    "kernelspec": {
      "name": "python3",
      "display_name": "Python 3"
    },
    "language_info": {
      "name": "python"
    }
  },
  "cells": [
    {
      "cell_type": "markdown",
      "metadata": {
        "id": "view-in-github",
        "colab_type": "text"
      },
      "source": [
        "<a href=\"https://colab.research.google.com/github/Amanlnctu/CODSOFT/blob/main/TASK_2_calculator.ipynb\" target=\"_parent\"><img src=\"https://colab.research.google.com/assets/colab-badge.svg\" alt=\"Open In Colab\"/></a>"
      ]
    },
    {
      "cell_type": "markdown",
      "source": [
        "# **CALCULATOR**\n"
      ],
      "metadata": {
        "id": "POlzMbz1gAhP"
      }
    },
    {
      "cell_type": "markdown",
      "source": [
        "ADDITION FUNCTION"
      ],
      "metadata": {
        "id": "b-GKg898gNKX"
      }
    },
    {
      "cell_type": "code",
      "source": [
        "def add(x, y):\n",
        "    # Adding two numbers\n",
        "    return x + y"
      ],
      "metadata": {
        "id": "Fmo00bONgT_0"
      },
      "execution_count": 1,
      "outputs": []
    },
    {
      "cell_type": "markdown",
      "source": [
        "SUBSTRACT FUNCTION"
      ],
      "metadata": {
        "id": "NQKtRO9bgWal"
      }
    },
    {
      "cell_type": "code",
      "source": [
        "def subtract(x, y):\n",
        "    # Subtracting two numbers\n",
        "    return x - y"
      ],
      "metadata": {
        "id": "4hXPUR_lgYgI"
      },
      "execution_count": 2,
      "outputs": []
    },
    {
      "cell_type": "markdown",
      "source": [
        "MULTIPLY FUNCTION"
      ],
      "metadata": {
        "id": "-MkCpbopgbpW"
      }
    },
    {
      "cell_type": "code",
      "source": [
        "def multiply(x, y):\n",
        "    # Multiplying two numbers\n",
        "    return x * y\n"
      ],
      "metadata": {
        "id": "Cw2RtSmsgefb"
      },
      "execution_count": 3,
      "outputs": []
    },
    {
      "cell_type": "markdown",
      "source": [
        "DEVIDE FUNCTION"
      ],
      "metadata": {
        "id": "azIUTHKSgjTo"
      }
    },
    {
      "cell_type": "code",
      "source": [
        "def divide(x, y):\n",
        "    # Dividing two numbers\n",
        "    if y == 0:\n",
        "        print(\"Bhai, zero se divide NAHI HOTAA! 😅\")  # Dude, you shouldn't divide by zero! 😅\n",
        "        return None\n",
        "    else:\n",
        "        return x / y"
      ],
      "metadata": {
        "id": "uKJiY0wEgmrU"
      },
      "execution_count": 4,
      "outputs": []
    },
    {
      "cell_type": "markdown",
      "source": [
        "### ***MAIN BLOCK OF CODE ***"
      ],
      "metadata": {
        "id": "5Ll-X41QgvbU"
      }
    },
    {
      "cell_type": "code",
      "source": [
        "def main():\n",
        "    print(\"Welcome to the Simple Calculator\")\n",
        "\n",
        "    while True:\n",
        "        print(\"\\nChoose operation:\")\n",
        "        print(\"1. Add\")\n",
        "        print(\"2. Subtract\")\n",
        "        print(\"3. Multiply\")\n",
        "        print(\"4. Divide\")\n",
        "        print(\"5. Exit\")\n",
        "\n",
        "        choice = input(\"Enter your choice (1/2/3/4/5): \")\n",
        "\n",
        "        if choice in ('1', '2', '3', '4'):\n",
        "            num1 = float(input(\"Enter first number: \"))\n",
        "            num2 = float(input(\"Enter second number: \"))\n",
        "\n",
        "            if choice == '1':\n",
        "                print(\"Result:\", add(num1, num2))\n",
        "            elif choice == '2':\n",
        "                print(\"Result:\", subtract(num1, num2))\n",
        "            elif choice == '3':\n",
        "                print(\"Result:\", multiply(num1, num2))\n",
        "            elif choice == '4':\n",
        "                result = divide(num1, num2)\n",
        "                if result is not None:\n",
        "                    print(\"Result:\", result)\n",
        "        elif choice == '5':\n",
        "            print(\" ALVIDA !! GOOD BYE !! Dekhte hain phir kab milte hain! 😊\")  # Let's see when we meet again! 😊\n",
        "            break\n",
        "        else:\n",
        "            print(\"Invalid choice. Please choose from 1 to 5. 😅\")  # Invalid choice. Please choose from 1 to 5. 😅\n",
        "\n",
        "if __name__ == \"__main__\":\n",
        "    main()"
      ],
      "metadata": {
        "colab": {
          "base_uri": "https://localhost:8080/"
        },
        "id": "AEpsP0_6gxrE",
        "outputId": "a77ae1a5-e96b-4c26-d567-327df5bbfb55"
      },
      "execution_count": null,
      "outputs": [
        {
          "output_type": "stream",
          "name": "stdout",
          "text": [
            "Welcome to the Simple Calculator\n",
            "\n",
            "Choose operation:\n",
            "1. Add\n",
            "2. Subtract\n",
            "3. Multiply\n",
            "4. Divide\n",
            "5. Exit\n",
            "Enter your choice (1/2/3/4/5): 1\n",
            "Enter first number: 10\n",
            "Enter second number: 20\n",
            "Result: 30.0\n",
            "\n",
            "Choose operation:\n",
            "1. Add\n",
            "2. Subtract\n",
            "3. Multiply\n",
            "4. Divide\n",
            "5. Exit\n",
            "Enter your choice (1/2/3/4/5): 3\n",
            "Enter first number: 10\n",
            "Enter second number: 50\n",
            "Result: 500.0\n",
            "\n",
            "Choose operation:\n",
            "1. Add\n",
            "2. Subtract\n",
            "3. Multiply\n",
            "4. Divide\n",
            "5. Exit\n"
          ]
        }
      ]
    },
    {
      "cell_type": "code",
      "source": [],
      "metadata": {
        "id": "NKSz2DRmhXSy"
      },
      "execution_count": null,
      "outputs": []
    }
  ]
}