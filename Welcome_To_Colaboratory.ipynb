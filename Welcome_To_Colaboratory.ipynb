{
  "cells": [
    {
      "cell_type": "markdown",
      "metadata": {
        "id": "view-in-github",
        "colab_type": "text"
      },
      "source": [
        "<a href=\"https://colab.research.google.com/github/Amanlnctu/CODSOFT/blob/main/Welcome_To_Colaboratory.ipynb\" target=\"_parent\"><img src=\"https://colab.research.google.com/assets/colab-badge.svg\" alt=\"Open In Colab\"/></a>"
      ]
    },
    {
      "cell_type": "markdown",
      "source": [
        "# ***TO DO LIST***"
      ],
      "metadata": {
        "id": "osqc0lhGBsZ6"
      }
    },
    {
      "cell_type": "markdown",
      "source": [
        "ADD TASK FUNCTION"
      ],
      "metadata": {
        "id": "efyk1VaBB8gh"
      }
    },
    {
      "cell_type": "code",
      "source": [
        "def add_task(task, filename):\n",
        "    # Adding a new task to the list\n",
        "    with open(filename, \"a\") as file:\n",
        "        file.write(task + \"\\n\")\n"
      ],
      "metadata": {
        "id": "opfbu-HfCAEZ"
      },
      "execution_count": null,
      "outputs": []
    },
    {
      "cell_type": "markdown",
      "source": [
        "VIEW TASK FUNTION"
      ],
      "metadata": {
        "id": "YifCRGN3CCj2"
      }
    },
    {
      "cell_type": "code",
      "source": [
        "def view_tasks(filename):\n",
        "    try:\n",
        "        # Trying to read tasks from the file\n",
        "        with open(filename, \"r\") as file:\n",
        "            tasks = file.readlines()\n",
        "            if not tasks:\n",
        "                # If there are no tasks\n",
        "                print(\"Kuch kaam nahi hai! Time to relax. 😎\")  # Nothing to do! Time to relax.\n",
        "            else:\n",
        "                # Displaying tasks\n",
        "                print(\"To-Do List:\")\n",
        "                for idx, task in enumerate(tasks, start=1):\n",
        "                    print(f\"{idx}. {task.strip()}\")\n",
        "    except FileNotFoundError:\n",
        "        # If file not found\n",
        "        print(\"File nahi mili, abhi tak to-do list banaayi nahi! 😅\")  # Couldn't find the file, haven't made a to-do list yet!"
      ],
      "metadata": {
        "id": "Xf-pFCABCIh4"
      },
      "execution_count": null,
      "outputs": []
    },
    {
      "cell_type": "markdown",
      "source": [
        "COMPLETE TASK FUNCTION"
      ],
      "metadata": {
        "id": "y29BI2F3CbBM"
      }
    },
    {
      "cell_type": "code",
      "source": [
        "def complete_task(task_index, filename):\n",
        "    try:\n",
        "        # Reading tasks from the file\n",
        "        with open(filename, \"r\") as file:\n",
        "            tasks = file.readlines()\n",
        "        # Writing tasks back to the file without the completed task\n",
        "        with open(filename, \"w\") as file:\n",
        "            for idx, task in enumerate(tasks, start=1):\n",
        "                if idx != task_index:\n",
        "                    file.write(task)\n",
        "        # Task completed message\n",
        "        print(\"Kaam khatam, boss! ✔️\")  # Task completed, boss!\n",
        "\n",
        "    except FileNotFoundError:\n",
        "        # If file not found\n",
        "        print(\"Kaam khatam hone ki khabar nahi mili! 😬\")  # Couldn't find the task to complete!"
      ],
      "metadata": {
        "id": "2ZM1nv8aCiXr"
      },
      "execution_count": null,
      "outputs": []
    },
    {
      "cell_type": "markdown",
      "source": [
        "DELETE TASK FUNCTION"
      ],
      "metadata": {
        "id": "FmC10i8eCl2R"
      }
    },
    {
      "cell_type": "code",
      "source": [
        "def delete_task(task_index, filename):\n",
        "    try:\n",
        "        # Reading tasks from the file\n",
        "        with open(filename, \"r\") as file:\n",
        "            tasks = file.readlines()\n",
        "        # Writing tasks back to the file without the deleted task\n",
        "        with open(filename, \"w\") as file:\n",
        "            for idx, task in enumerate(tasks, start=1):\n",
        "                if idx != task_index:\n",
        "                    file.write(task)\n",
        "        # Task deletion message\n",
        "        print(\"Kaam delete ho gaya, tension kam ho gayi! 😌\")  # Task deleted, tension reduced!\n",
        "\n",
        "    except FileNotFoundError:\n",
        "        # If file not found\n",
        "        print(\"File nahi mili, delete kaise karein? 🤔\")  # Couldn't find the file, how to delete?\n"
      ],
      "metadata": {
        "id": "BST-FcNLCsw6"
      },
      "execution_count": null,
      "outputs": []
    },
    {
      "cell_type": "markdown",
      "source": [
        "MAIN BODY OF CODE"
      ],
      "metadata": {
        "id": "vsCEaT0VC5L8"
      }
    },
    {
      "cell_type": "code",
      "source": [
        "def main():\n",
        "    # Asking the user for the filename\n",
        "    filename = input(\"Enter the filename to store tasks (e.g., todo.txt): \")\n",
        "    while True:\n",
        "        print(\"\\nWelcome to the To-Do List Application\")\n",
        "        print(\"1. Add Task\")\n",
        "        print(\"2. View Tasks\")\n",
        "        print(\"3. Mark Task as Completed\")\n",
        "        print(\"4. Delete Task\")\n",
        "        print(\"5. Exit\")\n",
        "\n",
        "        choice = input(\"Enter your choice: \")\n",
        "\n",
        "        if choice == \"1\":\n",
        "            # Adding a new task\n",
        "            task = input(\"Enter task: \")\n",
        "            add_task(task, filename)\n",
        "        elif choice == \"2\":\n",
        "            # Viewing tasks\n",
        "            view_tasks(filename)\n",
        "        elif choice == \"3\":\n",
        "            # Completing a task\n",
        "            task_index = int(input(\"Enter the task number to mark as completed: \"))\n",
        "            complete_task(task_index, filename)\n",
        "        elif choice == \"4\":\n",
        "            # Deleting a task\n",
        "            task_index = int(input(\"Enter the task number to delete: \"))\n",
        "            delete_task(task_index, filename)\n",
        "        elif choice == \"5\":\n",
        "            # Exiting the program\n",
        "            print(\"Exiting... Have a great day! 😊\")  # Exiting... Have a great day! 😊\n",
        "            break\n",
        "        else:\n",
        "            # Invalid choice\n",
        "            print(\"Invalid choice. Kuch aur try karein. 😅\")  # Invalid choice. Try something else.\n",
        "\n",
        "if __name__ == \"__main__\":\n",
        "    main()\n"
      ],
      "metadata": {
        "colab": {
          "base_uri": "https://localhost:8080/"
        },
        "id": "oIK6K3DpC2h5",
        "outputId": "a45f53be-9a61-4900-8d55-bba7a57d9e2a"
      },
      "execution_count": null,
      "outputs": [
        {
          "output_type": "stream",
          "name": "stdout",
          "text": [
            "Enter the filename to store tasks (e.g., todo.txt): MY TASK\n",
            "\n",
            "Welcome to the To-Do List Application\n",
            "1. Add Task\n",
            "2. View Tasks\n",
            "3. Mark Task as Completed\n",
            "4. Delete Task\n",
            "5. Exit\n",
            "Enter your choice: 1\n",
            "Enter task: learn dsa\n",
            "\n",
            "Welcome to the To-Do List Application\n",
            "1. Add Task\n",
            "2. View Tasks\n",
            "3. Mark Task as Completed\n",
            "4. Delete Task\n",
            "5. Exit\n",
            "Enter your choice: 2\n",
            "To-Do List:\n",
            "1. learn dsa\n",
            "\n",
            "Welcome to the To-Do List Application\n",
            "1. Add Task\n",
            "2. View Tasks\n",
            "3. Mark Task as Completed\n",
            "4. Delete Task\n",
            "5. Exit\n",
            "Enter your choice: 3\n",
            "Enter the task number to mark as completed: 1\n",
            "Kaam khatam, boss! ✔️\n",
            "\n",
            "Welcome to the To-Do List Application\n",
            "1. Add Task\n",
            "2. View Tasks\n",
            "3. Mark Task as Completed\n",
            "4. Delete Task\n",
            "5. Exit\n",
            "Enter your choice: 5\n",
            "Exiting... Have a great day! 😊\n"
          ]
        }
      ]
    },
    {
      "cell_type": "code",
      "source": [],
      "metadata": {
        "id": "2x5QUfSrDst1"
      },
      "execution_count": null,
      "outputs": []
    }
  ],
  "metadata": {
    "colab": {
      "name": "Welcome To Colaboratory",
      "toc_visible": true,
      "provenance": [],
      "include_colab_link": true
    },
    "kernelspec": {
      "display_name": "Python 3",
      "name": "python3"
    }
  },
  "nbformat": 4,
  "nbformat_minor": 0
}